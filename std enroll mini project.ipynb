{
 "cells": [
  {
   "cell_type": "markdown",
   "id": "1031281a-6813-4268-90bc-7cb80e9a0c78",
   "metadata": {},
   "source": [
    "SCENARIO : STUDENT ENROLLMENT SYSTEM\n",
    "#USER STORY -- CLIENT IS RUNNING ONE EDUCATIONAL INSTITUTE NAMED ABC PVT LTD WHERE STUDENTS ENROLL IN COURSES. #CREATE A CLASS FOR THE ENROLLMENT SYSTEM WHICH TAKES THE STUDENTS DATA , HAVE THE COURSE DETAILS, ENROLL THE STUDENTS WITH PROPER COURSE , FEES AND REGISTRATION NUMBER.\n",
    "\n",
    "ALONG WITH THESE PROCESS IT SHOULD ALSO HANDLE:\n",
    "\n",
    "1 - COURSE NOT FOUND ERROR\n",
    "\n",
    "2 - INVALID EDUCATIONAL BACKGROUND\n",
    "\n",
    "3 - COURSE CAPACITY FULL\n",
    "\n",
    "4 - OTHERS"
   ]
  },
  {
   "cell_type": "code",
   "execution_count": 5,
   "id": "e53e0eb3-00c0-498f-8202-c2112ead0207",
   "metadata": {},
   "outputs": [],
   "source": [
    "class enrollment_system:\n",
    "     def __init__(self):\n",
    "        self.course={}\n",
    "        self.students={}\n",
    "         self.registration_count=1\n",
    "    def add_course(self,course_id\n",
    "        try:\n",
    "            if self.course == \"BSc\":\n",
    "                raise course(f\"{self.course} is available and fees is 85000\")\n",
    "            if self.cours == \"B.com\":\n",
    "                raise course(f\"{self.course} is available and fees is 90000\")\n",
    "            if self.course==\"BCA\":\n",
    "                raise course(f\"{self.course} is available and fees is 95000\")\n",
    "            self.choose_course=self.choose_course.get(self.course)\n",
    "        except course as c:\n",
    "            print(c)\n",
    "        except course as c:\n",
    "            print(c)\n",
    "        except course as c:\n",
    "            print (c)\n",
    "        finally:\n",
    "            print(\"congralations\")"
   ]
  },
  {
   "cell_type": "code",
   "execution_count": 8,
   "id": "8e689607-3aae-4078-85af-be07fd604e79",
   "metadata": {},
   "outputs": [],
   "source": [
    "a =enrollment_system()"
   ]
  },
  {
   "cell_type": "code",
   "execution_count": 11,
   "id": "b7f0480f-2aa3-4120-84b8-a01bd81cf2ec",
   "metadata": {},
   "outputs": [
    {
     "data": {
      "text/plain": [
       "'BCA'"
      ]
     },
     "execution_count": 11,
     "metadata": {},
     "output_type": "execute_result"
    }
   ],
   "source": []
  },
  {
   "cell_type": "code",
   "execution_count": null,
   "id": "cdca0465-5c43-4d92-99e9-f9f36baf03fd",
   "metadata": {},
   "outputs": [],
   "source": []
  },
  {
   "cell_type": "code",
   "execution_count": null,
   "id": "35542690-fa81-42ab-8ffa-0814f8f83c40",
   "metadata": {},
   "outputs": [],
   "source": [
    "course = input(\"enter the course name:\")\n",
    "if course == \"Datascience\":\n",
    "    print(f\"{course} is available.\\nThe duration of course is 6 months.The topics included data analytics and data science with ML\")\n",
    "if course == \"Java\":\n",
    "    print(f\"{course} is available.\\nThe duration of course is 5 months.The topics included core  and advance java\")\n",
    "if course == \"Python\":\n",
    "    print(f\"{course} is available.\\n The duration is 45 days.\")\n",
    "else:\n",
    "    print(f\"{course} is not listed\")"
   ]
  },
  {
   "cell_type": "code",
   "execution_count": null,
   "id": "dc576b0d-6212-43e6-9e24-aebd7333d05e",
   "metadata": {},
   "outputs": [],
   "source": [
    "name = []\n",
    "domain = []\n",
    "def extract_mail():\n",
    "    email = input(\"Enter the mail id\")\n",
    "    split = email.split(\"@\")\n",
    "    name.append(split[0])\n",
    "    domain.append(split[1])\n",
    "    return name , domain"
   ]
  },
  {
   "cell_type": "code",
   "execution_count": null,
   "id": "4fd1a000-a5e3-44b4-b554-05c27fba7d5f",
   "metadata": {},
   "outputs": [],
   "source": []
  }
 ],
 "metadata": {
  "kernelspec": {
   "display_name": "Python 3 (ipykernel)",
   "language": "python",
   "name": "python3"
  },
  "language_info": {
   "codemirror_mode": {
    "name": "ipython",
    "version": 3
   },
   "file_extension": ".py",
   "mimetype": "text/x-python",
   "name": "python",
   "nbconvert_exporter": "python",
   "pygments_lexer": "ipython3",
   "version": "3.12.7"
  }
 },
 "nbformat": 4,
 "nbformat_minor": 5
}
